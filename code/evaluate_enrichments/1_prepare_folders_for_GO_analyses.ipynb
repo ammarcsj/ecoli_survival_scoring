{
 "cells": [
  {
   "cell_type": "markdown",
   "metadata": {},
   "source": [
    "## Prepare folders for GO analyses\n",
    "\n",
    "In this notebook, we copy all relevant survival scores for each enrichment analysis to a different directory, where subsequently a standard GO enrichment analysis is performed."
   ]
  },
  {
   "cell_type": "code",
   "execution_count": 1,
   "metadata": {},
   "outputs": [],
   "source": [
    "import os\n",
    "\n",
    "os.chdir(\"../../data/GO_analyses\")\n",
    "\n",
    "carls_results_file = \"../results_tables/carls_table.xlsx\"\n",
    "\n",
    "headers_to_prepare_folders_for = [\"C\", \"A\", \"R\", \"L\", \"S\", \"Survival Score\"]"
   ]
  },
  {
   "cell_type": "code",
   "execution_count": 2,
   "metadata": {},
   "outputs": [
    {
     "name": "stdout",
     "output_type": "stream",
     "text": [
      "\"/Users/constantin/workspace/ecoli/ecoli_survival_scoring/data/GO_analyses/C/C_zvals.tsv\",\n",
      "\"/Users/constantin/workspace/ecoli/ecoli_survival_scoring/data/GO_analyses/A/A_zvals.tsv\",\n",
      "\"/Users/constantin/workspace/ecoli/ecoli_survival_scoring/data/GO_analyses/R/R_zvals.tsv\",\n",
      "\"/Users/constantin/workspace/ecoli/ecoli_survival_scoring/data/GO_analyses/L/L_zvals.tsv\",\n",
      "\"/Users/constantin/workspace/ecoli/ecoli_survival_scoring/data/GO_analyses/S/S_zvals.tsv\",\n",
      "\"/Users/constantin/workspace/ecoli/ecoli_survival_scoring/data/GO_analyses/Survival Score/Survival Score_zvals.tsv\",\n",
      "\"/Users/constantin/workspace/ecoli/ecoli_survival_scoring/data/GO_analyses/C\",\n",
      "\"/Users/constantin/workspace/ecoli/ecoli_survival_scoring/data/GO_analyses/A\",\n",
      "\"/Users/constantin/workspace/ecoli/ecoli_survival_scoring/data/GO_analyses/R\",\n",
      "\"/Users/constantin/workspace/ecoli/ecoli_survival_scoring/data/GO_analyses/L\",\n",
      "\"/Users/constantin/workspace/ecoli/ecoli_survival_scoring/data/GO_analyses/S\",\n",
      "\"/Users/constantin/workspace/ecoli/ecoli_survival_scoring/data/GO_analyses/Survival Score\",\n"
     ]
    }
   ],
   "source": [
    "import pandas as pd\n",
    "\n",
    "def filter_if_survival_score_not_to_be_included(df):\n",
    "    return df[df[\"Used for Enrichment\"]]\n",
    "\n",
    "def filter_valid_values(df, header):\n",
    "    #filter valid numeric values in float column\n",
    "    return df[~df[header].isna()]\n",
    "\n",
    "\n",
    "# Load carls_results_file as pandas dataframe. Go through headers_to_prepare_folders_for and create folders for each one. Each folder will contain a table with the header column\n",
    "df = pd.read_excel(carls_results_file)\n",
    "for header in headers_to_prepare_folders_for:\n",
    "    #Create folder for header if it doesn't exist\n",
    "    if not os.path.exists(header):\n",
    "        os.makedirs(header)\n",
    "    #Create tsv table in header folder with name zvals.tsv and subset df to \"Gene\" and header column. Use f strings to create file name\n",
    "    filepath = f\"{header}/{header}_zvals.tsv\"\n",
    "    print(f\"\\\"{os.path.abspath(filepath)}\\\",\")\n",
    "   \n",
    "    if \"Survival Score\" in header:\n",
    "        df = filter_if_survival_score_not_to_be_included(df)\n",
    "    subset_df =  df[[\"Gene\", header]]\n",
    "    subset_df = filter_valid_values(subset_df, header)\n",
    "    subset_df.to_csv(filepath, sep=\"\\t\", index=False, header = None)\n",
    "\n",
    "\n",
    "\n",
    "for header in headers_to_prepare_folders_for:\n",
    "    print(f\"\\\"{os.path.abspath(header)}\\\",\")"
   ]
  },
  {
   "cell_type": "code",
   "execution_count": null,
   "metadata": {},
   "outputs": [],
   "source": []
  },
  {
   "cell_type": "code",
   "execution_count": null,
   "metadata": {},
   "outputs": [],
   "source": []
  }
 ],
 "metadata": {
  "kernelspec": {
   "display_name": "Python 3.9.7 ('base')",
   "language": "python",
   "name": "python3"
  },
  "language_info": {
   "codemirror_mode": {
    "name": "ipython",
    "version": 3
   },
   "file_extension": ".py",
   "mimetype": "text/x-python",
   "name": "python",
   "nbconvert_exporter": "python",
   "pygments_lexer": "ipython3",
   "version": "3.9.7"
  },
  "orig_nbformat": 4,
  "vscode": {
   "interpreter": {
    "hash": "df57fb2011fe0677c52ead08c38db10ec9ae0632224e1588dff526d5ca373fd3"
   }
  }
 },
 "nbformat": 4,
 "nbformat_minor": 2
}
