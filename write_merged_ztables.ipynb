{
 "cells": [
  {
   "cell_type": "markdown",
   "metadata": {},
   "source": [
    "# Write merged ztables\n",
    "\n",
    "In this notebook, we collect the differential expression analysis (DEA) files of the datasets defined below and summarize each set of DEA files to a merged z-value table."
   ]
  },
  {
   "cell_type": "markdown",
   "metadata": {},
   "source": [
    "### Define paths to datasets"
   ]
  },
  {
   "cell_type": "code",
   "execution_count": 1,
   "metadata": {},
   "outputs": [],
   "source": [
    "directories_with_diffresults_files = [\"dataset_hui_et_al/sorted_differential_analysis_files/A\", 'dataset_hui_et_al/sorted_differential_analysis_files/C_glucose_uptake_titration', \n",
    "'dataset_hui_et_al/sorted_differential_analysis_files/R', 'dataset_houser_et_al/sorted_differential_analysis_files/S_houser', 'dataset_schmidt_et_al/sorted_differential_analysis_files/L','dataset_schmidt_et_al/sorted_differential_analysis_files/C_chemostat',\n",
    "'dataset_schmidt_et_al/sorted_differential_analysis_files/C_carbon_sources', 'dataset_schmidt_et_al/sorted_differential_analysis_files/S_schmidt']\n",
    "\n",
    "protein2gene_map = \"protid2gene.tsv\""
   ]
  },
  {
   "cell_type": "markdown",
   "metadata": {},
   "source": [
    "### Apply our classes to the dataset\n",
    "\n",
    "Hereby, we rely on the classes defined in \"merge_per_dataset.py\", which is located in the same folder as this jupyter notebook"
   ]
  },
  {
   "cell_type": "code",
   "execution_count": 2,
   "metadata": {},
   "outputs": [],
   "source": [
    "import merge_per_dataset\n",
    "\n",
    "name_updater = merge_per_dataset.GeneNameUpdater(protein2gene_map)\n",
    "for directory in directories_with_diffresults_files:\n",
    "    collected_results = merge_per_dataset.AlignedDiffResultsCollector(directory)\n",
    "    name_updater.update_collection_of_geneinfos(collected_results.gene2info.values())\n",
    "    merged = merge_per_dataset.GeneToZvalMerger(collected_results.gene2info)\n",
    "    dirname = directory.split(\"/\")[-1]\n",
    "    tablename = f\"{dirname}_mergedzs.tsv\"\n",
    "    tabledir = f'{directory}/../'\n",
    "    merged.gene2mergedz_df.to_csv(f\"{tabledir}{tablename}\", sep = \"\\t\", index = None)\n",
    "\n",
    "\n"
   ]
  },
  {
   "cell_type": "code",
   "execution_count": null,
   "metadata": {},
   "outputs": [],
   "source": []
  }
 ],
 "metadata": {
  "kernelspec": {
   "display_name": "Python 3.9.7 ('base')",
   "language": "python",
   "name": "python3"
  },
  "language_info": {
   "codemirror_mode": {
    "name": "ipython",
    "version": 3
   },
   "file_extension": ".py",
   "mimetype": "text/x-python",
   "name": "python",
   "nbconvert_exporter": "python",
   "pygments_lexer": "ipython3",
   "version": "3.9.7"
  },
  "orig_nbformat": 4,
  "vscode": {
   "interpreter": {
    "hash": "df57fb2011fe0677c52ead08c38db10ec9ae0632224e1588dff526d5ca373fd3"
   }
  }
 },
 "nbformat": 4,
 "nbformat_minor": 2
}
